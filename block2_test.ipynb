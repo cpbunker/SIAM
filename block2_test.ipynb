import numpy as np
!pip install block2==0.5.2rc13 -qq --progress-bar off --extra-index-url=https://block-hczhai.github.io/block2-preview/pypi/
from pyblock2.driver import core

L = 100
heis_twos = 1

driver = core.DMRGDriver(scratch="./tmp", symm_type=core.SymmetryTypes.SGB, n_threads=4)
driver.initialize_system(n_sites=L, heis_twos=heis_twos, heis_twosz=0)
print("here")
b = driver.expr_builder()
for i in range(L - 1):
    b.add_term("PM", [i, i + 1], 0.5)
    b.add_term("MP", [i, i + 1], 0.5)
    b.add_term("ZZ", [i, i + 1], 1.0)
print("here2")
heis_mpo = driver.get_mpo(b.finalize(), iprint=0)
print("here3")
def run_dmrg(driver, mpo):
    ket = driver.get_random_mps(tag="KET", bond_dim=250, nroots=1)
    bond_dims = [250] * 4 + [500] * 4
    noises = [1e-5] * 4 + [1e-6] * 2 + [0]
    thrds = [1e-6] * 4 + [1e-8] * 4
    return driver.dmrg(
        mpo,
        ket,
        n_sweeps=8,
        bond_dims=bond_dims,
        noises=noises,
        thrds=thrds,
        cutoff=1E-24,
        iprint=1,
    )

energies = run_dmrg(driver, heis_mpo)
print('DMRG energy = %20.15f' % energies)
